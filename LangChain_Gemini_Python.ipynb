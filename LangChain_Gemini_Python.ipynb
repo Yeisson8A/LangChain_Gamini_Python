{
  "nbformat": 4,
  "nbformat_minor": 0,
  "metadata": {
    "colab": {
      "provenance": []
    },
    "kernelspec": {
      "name": "python3",
      "display_name": "Python 3"
    },
    "language_info": {
      "name": "python"
    }
  },
  "cells": [
    {
      "cell_type": "markdown",
      "source": [
        "# **LangChain con Python y Gemini AI**"
      ],
      "metadata": {
        "id": "g19LaiMjoq3Y"
      }
    },
    {
      "cell_type": "markdown",
      "source": [
        "Proyecto desarrollado en Python, implementando LangChain con Gemini, para realizar preguntas con contexto usando como ejemplos una API, un documento PDF, un audio y una base de datos SQL Server."
      ],
      "metadata": {
        "id": "eV8yJf9Vo1Q4"
      }
    },
    {
      "cell_type": "code",
      "execution_count": 7,
      "metadata": {
        "colab": {
          "base_uri": "https://localhost:8080/"
        },
        "id": "mU_dFUsjdzPx",
        "outputId": "97a5ecb3-d3fc-41c8-e8b4-d862652d0834"
      },
      "outputs": [
        {
          "output_type": "stream",
          "name": "stdout",
          "text": [
            "\u001b[?25l   \u001b[90m━━━━━━━━━━━━━━━━━━━━━━━━━━━━━━━━━━━━━━━━\u001b[0m \u001b[32m0.0/85.0 kB\u001b[0m \u001b[31m?\u001b[0m eta \u001b[36m-:--:--\u001b[0m\r\u001b[2K   \u001b[90m━━━━━━━━━━━━━━━━━━━━━━━━━━━━━━━━━━━━━━━━\u001b[0m \u001b[32m85.0/85.0 kB\u001b[0m \u001b[31m2.3 MB/s\u001b[0m eta \u001b[36m0:00:00\u001b[0m\n",
            "\u001b[?25h"
          ]
        }
      ],
      "source": [
        "!pip install -q langchain openai google-generativeai requests langchain-google-genai faiss-cpu pypdf langchain-community openai-whisper sqlalchemy sqlalchemy-pytds"
      ]
    },
    {
      "cell_type": "code",
      "source": [
        "import requests\n",
        "from langchain_google_genai import ChatGoogleGenerativeAI\n",
        "from langchain.schema import HumanMessage\n",
        "from langchain.document_loaders import PyPDFLoader\n",
        "from langchain.text_splitter import RecursiveCharacterTextSplitter\n",
        "from langchain_google_genai import GoogleGenerativeAIEmbeddings\n",
        "from langchain.vectorstores import FAISS\n",
        "from langchain.chains import RetrievalQA\n",
        "import whisper\n",
        "from langchain.sql_database import SQLDatabase\n",
        "from langchain.prompts import PromptTemplate\n",
        "from langchain.chains import LLMChain\n",
        "import urllib\n",
        "from sqlalchemy import create_engine"
      ],
      "metadata": {
        "id": "o4qnP5UpeA0b"
      },
      "execution_count": 18,
      "outputs": []
    },
    {
      "cell_type": "markdown",
      "source": [
        "# **LangChain usando una API**"
      ],
      "metadata": {
        "id": "b9knkZyvM3Hr"
      }
    },
    {
      "cell_type": "code",
      "source": [
        "OPENWEATHER_API_KEY = \"XXXXXXXXX\"\n",
        "GEMINI_API_KEY = \"XXXXXXXXX\""
      ],
      "metadata": {
        "id": "IIGCdYtOee6b"
      },
      "execution_count": 77,
      "outputs": []
    },
    {
      "cell_type": "code",
      "source": [
        "# Consultar clima en API\n",
        "city = \"Medellin\"\n",
        "weather_response = requests.get(\n",
        "    \"https://api.openweathermap.org/data/2.5/weather\",\n",
        "    params={\"q\": city, \"units\": \"metric\", \"appid\": OPENWEATHER_API_KEY}\n",
        ")"
      ],
      "metadata": {
        "id": "BFYvPoTNfGBj"
      },
      "execution_count": 4,
      "outputs": []
    },
    {
      "cell_type": "code",
      "source": [
        "weather_data = weather_response.json()\n",
        "print(weather_data)"
      ],
      "metadata": {
        "colab": {
          "base_uri": "https://localhost:8080/"
        },
        "id": "Y8nJB8pJfQdj",
        "outputId": "9aff6353-6b7b-451f-9d41-9b6131de5f58"
      },
      "execution_count": 5,
      "outputs": [
        {
          "output_type": "stream",
          "name": "stdout",
          "text": [
            "{'coord': {'lon': -75.5636, 'lat': 6.2518}, 'weather': [{'id': 801, 'main': 'Clouds', 'description': 'few clouds', 'icon': '02d'}], 'base': 'stations', 'main': {'temp': 23.7, 'feels_like': 23.74, 'temp_min': 23.15, 'temp_max': 24.87, 'pressure': 1016, 'humidity': 62, 'sea_level': 1016, 'grnd_level': 808}, 'visibility': 10000, 'wind': {'speed': 1.54, 'deg': 0}, 'clouds': {'all': 20}, 'dt': 1750004346, 'sys': {'type': 2, 'id': 2099918, 'country': 'CO', 'sunrise': 1749984502, 'sunset': 1750029439}, 'timezone': -18000, 'id': 3674962, 'name': 'Medellín', 'cod': 200}\n"
          ]
        }
      ]
    },
    {
      "cell_type": "code",
      "source": [
        "# Obtener temperatura y clima actual\n",
        "temperature = weather_data[\"main\"][\"temp\"]\n",
        "description = weather_data[\"weather\"][0][\"description\"]"
      ],
      "metadata": {
        "id": "2119nx-Zfasl"
      },
      "execution_count": 6,
      "outputs": []
    },
    {
      "cell_type": "code",
      "source": [
        "# Crea el prompt para la API de Gemini\n",
        "prompt = f\"\"\"\n",
        "El clima actual en {city} es:\n",
        "Temperatura: {temperature}°C\n",
        "Condición: {description}\n",
        "\n",
        "¿Qué ropa debería usar hoy?\n",
        "\"\"\""
      ],
      "metadata": {
        "id": "pXwCz2QlfonF"
      },
      "execution_count": 7,
      "outputs": []
    },
    {
      "cell_type": "code",
      "source": [
        "# Usar LangChain con Gemini\n",
        "llm = ChatGoogleGenerativeAI(model=\"gemini-2.0-flash\", temperature=0.7, google_api_key=GEMINI_API_KEY)\n",
        "response = llm([HumanMessage(content=prompt)])"
      ],
      "metadata": {
        "colab": {
          "base_uri": "https://localhost:8080/"
        },
        "id": "e5XhJE_Kfziz",
        "outputId": "8963dcdc-f85c-43b5-9825-f98ab2895b9a"
      },
      "execution_count": 8,
      "outputs": [
        {
          "output_type": "stream",
          "name": "stderr",
          "text": [
            "<ipython-input-8-3460815109>:3: LangChainDeprecationWarning: The method `BaseChatModel.__call__` was deprecated in langchain-core 0.1.7 and will be removed in 1.0. Use :meth:`~invoke` instead.\n",
            "  response = llm([HumanMessage(content=prompt)])\n"
          ]
        }
      ]
    },
    {
      "cell_type": "code",
      "source": [
        "print(\"🤖 Respuesta de Gemini:\\n\")\n",
        "print(response.content)"
      ],
      "metadata": {
        "colab": {
          "base_uri": "https://localhost:8080/"
        },
        "id": "VrpSl4mlXniH",
        "outputId": "a201538d-2c0a-479d-b0dd-3a40fa48a8bc"
      },
      "execution_count": 9,
      "outputs": [
        {
          "output_type": "stream",
          "name": "stdout",
          "text": [
            "🤖 Respuesta de Gemini:\n",
            "\n",
            "Con una temperatura de 23.7°C y cielo con pocas nubes en Medellín, el clima es bastante agradable y cálido. Aquí te sugiero algunas opciones de ropa:\n",
            "\n",
            "*   **Parte superior:** Una camiseta de manga corta, blusa ligera o una camisa de lino serían ideales.\n",
            "*   **Parte inferior:** Pantalones cortos, una falda, un vestido ligero o pantalones de tela delgada son buenas opciones.\n",
            "*   **Calzado:** Sandalias, tenis o zapatos cómodos para caminar.\n",
            "*   **Extras:**\n",
            "    *   Lleva contigo un suéter ligero o una chaqueta delgada por si la temperatura baja un poco más tarde en el día o en lugares con aire acondicionado.\n",
            "    *   Gafas de sol y protector solar son recomendables para protegerte del sol.\n",
            "    *   Un paraguas pequeño podría ser útil, ya que en Medellín el clima puede ser impredecible.\n",
            "\n",
            "En general, lo mejor es optar por ropa cómoda y transpirable que te permita disfrutar del clima cálido.\n"
          ]
        }
      ]
    },
    {
      "cell_type": "code",
      "source": [
        "# Crea el prompt para la API de Gemini\n",
        "prompt = f\"\"\"\n",
        "El clima actual en {city} es:\n",
        "Temperatura: {temperature}°C\n",
        "Condición: {description}\n",
        "\n",
        "Dame sugerencias de planes que podría hacer hoy en la ciudad\n",
        "\"\"\""
      ],
      "metadata": {
        "id": "HPp9teivXt93"
      },
      "execution_count": 10,
      "outputs": []
    },
    {
      "cell_type": "code",
      "source": [
        "# Usar LangChain con Gemini\n",
        "llm = ChatGoogleGenerativeAI(model=\"gemini-2.0-flash\", temperature=0.7, google_api_key=GEMINI_API_KEY)\n",
        "response = llm([HumanMessage(content=prompt)])"
      ],
      "metadata": {
        "id": "Ghyiy5G2X5V5"
      },
      "execution_count": 11,
      "outputs": []
    },
    {
      "cell_type": "code",
      "source": [
        "print(\"🤖 Respuesta de Gemini:\\n\")\n",
        "print(response.content)"
      ],
      "metadata": {
        "colab": {
          "base_uri": "https://localhost:8080/"
        },
        "id": "n_oIWuZrX9ff",
        "outputId": "91c0d8a4-2afb-4c58-b4af-36f3bf75f785"
      },
      "execution_count": 12,
      "outputs": [
        {
          "output_type": "stream",
          "name": "stdout",
          "text": [
            "🤖 Respuesta de Gemini:\n",
            "\n",
            "¡Excelente! Con ese clima agradable de 23.7°C y pocas nubes, Medellín ofrece muchas opciones para disfrutar el día. Aquí te dejo algunas sugerencias, considerando que tienes un clima agradable:\n",
            "\n",
            "**Actividades al aire libre:**\n",
            "\n",
            "*   **Parque Arví:** Toma el Metrocable hasta la estación Santo Domingo y luego otro cable hasta el parque. Disfruta de caminatas ecológicas, picnics, mercados artesanales y la naturaleza. ¡Es un escape perfecto del bullicio de la ciudad!\n",
            "*   **Jardín Botánico Joaquín Antonio Uribe:** Un oasis de tranquilidad en medio de la ciudad. Explora la diversidad de flora colombiana, relájate en sus jardines y visita el Orquideorama.\n",
            "*   **Caminata por El Poblado:** Explora el barrio El Poblado, conocido por sus cafés, restaurantes, tiendas de diseño y vida nocturna. Puedes caminar por la Milla de Oro, visitar el Parque Lleras y disfrutar del ambiente cosmopolita.\n",
            "*   **Paseo en bicicleta:** Alquila una bicicleta y recorre la ciudad. Medellín tiene ciclovías y rutas interesantes para explorar en dos ruedas. Puedes ir por la ciclovía del río Medellín o explorar el barrio Laureles.\n",
            "*   **Visita a los Pueblitos Paisas:** Son réplicas de pueblos tradicionales antioqueños. Puedes visitar el Pueblito Paisa en el Cerro Nutibara para tener una vista panorámica de la ciudad, puedes ir a Santa Elena y visitar la finca silletera, o puedes ir a Guatapé y visitar la Piedra del Peñol.\n",
            "\n",
            "**Actividades culturales y de interés:**\n",
            "\n",
            "*   **Museo de Antioquia:** Admira la colección de arte de Fernando Botero y otros artistas colombianos e internacionales.\n",
            "*   **Plaza Botero:** Contempla las esculturas monumentales de Botero al aire libre y disfruta del ambiente animado de la plaza.\n",
            "*   **Comuna 13:** Realiza un tour guiado por la Comuna 13 para conocer su historia, su transformación social y su arte urbano. Es una experiencia impactante y enriquecedora.\n",
            "*   **Museo Casa de la Memoria:** Un espacio para reflexionar sobre la historia del conflicto armado en Colombia y promover la reconciliación.\n",
            "*   **Teatro Metropolitano José Gutiérrez Gómez:** Consulta la programación y asiste a un espectáculo de música, danza o teatro.\n",
            "\n",
            "**Opciones gastronómicas:**\n",
            "\n",
            "*   **Mercado del Río:** Un espacio gastronómico con una gran variedad de restaurantes y puestos de comida para todos los gustos.\n",
            "*   **Restaurantes en El Poblado o Laureles:** Disfruta de la oferta gastronómica de estos barrios, que incluye desde cocina tradicional colombiana hasta platos internacionales.\n",
            "*   **Cafés especiales:** Medellín es conocida por su café de alta calidad. Visita un café de especialidad y degusta diferentes variedades.\n",
            "\n",
            "**Recomendaciones adicionales:**\n",
            "\n",
            "*   **Considera tus intereses:** ¿Qué te gusta hacer? ¿Arte, naturaleza, historia, gastronomía? Elige las actividades que más te atraigan.\n",
            "*   **Planifica tu transporte:** Medellín tiene un sistema de transporte público eficiente (Metro, Metrocable, buses). También puedes usar taxis o aplicaciones de transporte.\n",
            "*   **Lleva protector solar y repelente:** Aunque el clima sea agradable, es importante protegerte del sol y de los mosquitos.\n",
            "*   **¡Disfruta de la amabilidad de la gente!** Los paisas son conocidos por su hospitalidad. No dudes en pedir recomendaciones o ayuda si la necesitas.\n",
            "\n",
            "¡Espero que estas sugerencias te sean útiles para disfrutar al máximo tu día en Medellín!\n"
          ]
        }
      ]
    },
    {
      "cell_type": "markdown",
      "source": [
        "# **LangChain usando un PDF**"
      ],
      "metadata": {
        "id": "lS-MNzc8M_dU"
      }
    },
    {
      "cell_type": "code",
      "source": [
        "from google.colab import drive\n",
        "drive.mount('/content/drive')"
      ],
      "metadata": {
        "colab": {
          "base_uri": "https://localhost:8080/"
        },
        "id": "-RBvHG_LZ08g",
        "outputId": "6e523508-3273-4dde-a240-2cbba44ed272"
      },
      "execution_count": 14,
      "outputs": [
        {
          "output_type": "stream",
          "name": "stdout",
          "text": [
            "Mounted at /content/drive\n"
          ]
        }
      ]
    },
    {
      "cell_type": "code",
      "source": [
        "# Cargar y dividir el documento\n",
        "loader = PyPDFLoader(\"/content/drive/MyDrive/Cursos/Python 2024/Los Gigantes que Dominaron la Tierra.pdf\")\n",
        "pages = loader.load()\n",
        "splitter = RecursiveCharacterTextSplitter(chunk_size=1000, chunk_overlap=150)\n",
        "documents = splitter.split_documents(pages)"
      ],
      "metadata": {
        "id": "tYLoQXMEb3I1"
      },
      "execution_count": 15,
      "outputs": []
    },
    {
      "cell_type": "code",
      "source": [
        "# Vectorizar con Gemini Embeddings y FAISS\n",
        "embeddings = GoogleGenerativeAIEmbeddings(model=\"models/embedding-001\", google_api_key=GEMINI_API_KEY)\n",
        "vectorstore = FAISS.from_documents(documents, embeddings)"
      ],
      "metadata": {
        "id": "go9EGRmhcLkV"
      },
      "execution_count": 16,
      "outputs": []
    },
    {
      "cell_type": "code",
      "source": [
        "# Usar QA Chain\n",
        "llm = ChatGoogleGenerativeAI(model=\"gemini-2.0-flash\", temperature=0.3, google_api_key=GEMINI_API_KEY)\n",
        "\n",
        "qa_chain = RetrievalQA.from_chain_type(\n",
        "    llm=llm,\n",
        "    retriever=vectorstore.as_retriever(search_kwargs={\"k\": 3}),\n",
        "    return_source_documents=True\n",
        ")"
      ],
      "metadata": {
        "id": "pmLJKaO4clne"
      },
      "execution_count": 17,
      "outputs": []
    },
    {
      "cell_type": "code",
      "source": [
        "# Realizar pregunta\n",
        "question = \"¿Cuál es el propósito principal de este documento?\"\n",
        "response = qa_chain({\"query\": question})"
      ],
      "metadata": {
        "id": "dygVDy98c9OH",
        "colab": {
          "base_uri": "https://localhost:8080/"
        },
        "outputId": "340c3b84-62dc-447b-93ce-0df26208a301"
      },
      "execution_count": 18,
      "outputs": [
        {
          "output_type": "stream",
          "name": "stderr",
          "text": [
            "<ipython-input-18-650050549>:3: LangChainDeprecationWarning: The method `Chain.__call__` was deprecated in langchain 0.1.0 and will be removed in 1.0. Use :meth:`~invoke` instead.\n",
            "  response = qa_chain({\"query\": question})\n"
          ]
        }
      ]
    },
    {
      "cell_type": "code",
      "source": [
        "print(\"❓ Pregunta:\", question)\n",
        "print(\"🤖 Respuesta:\", response[\"result\"])"
      ],
      "metadata": {
        "colab": {
          "base_uri": "https://localhost:8080/"
        },
        "id": "I--buFCIdWjg",
        "outputId": "e0a3f1a3-a5de-4b6c-a52c-099151367d06"
      },
      "execution_count": 19,
      "outputs": [
        {
          "output_type": "stream",
          "name": "stdout",
          "text": [
            "❓ Pregunta: ¿Cuál es el propósito principal de este documento?\n",
            "🤖 Respuesta: El propósito principal de este documento es describir el legado de los dinosaurios desde diferentes perspectivas: científica, cultural y económica.\n"
          ]
        }
      ]
    },
    {
      "cell_type": "code",
      "source": [
        "# Realizar pregunta\n",
        "question = \"Resume en cinco palabras este documento\"\n",
        "response = qa_chain({\"query\": question})"
      ],
      "metadata": {
        "id": "cWsQvDulddT-"
      },
      "execution_count": 20,
      "outputs": []
    },
    {
      "cell_type": "code",
      "source": [
        "print(\"❓ Pregunta:\", question)\n",
        "print(\"🤖 Respuesta:\", response[\"result\"])"
      ],
      "metadata": {
        "colab": {
          "base_uri": "https://localhost:8080/"
        },
        "id": "Lk7kpwKRdjMG",
        "outputId": "e82d492c-5311-4c8d-ab33-05d8848f0925"
      },
      "execution_count": 21,
      "outputs": [
        {
          "output_type": "stream",
          "name": "stdout",
          "text": [
            "❓ Pregunta: Resume en cinco palabras este documento\n",
            "🤖 Respuesta: Dinosaurios, extinción, impacto, diversidad, adaptación.\n"
          ]
        }
      ]
    },
    {
      "cell_type": "code",
      "source": [
        "# Realizar pregunta\n",
        "question = \"Hablame del tiranosaurio rex\"\n",
        "response = qa_chain({\"query\": question})"
      ],
      "metadata": {
        "id": "6YVT2Dt3CyaE"
      },
      "execution_count": 22,
      "outputs": []
    },
    {
      "cell_type": "code",
      "source": [
        "print(\"❓ Pregunta:\", question)\n",
        "print(\"🤖 Respuesta:\", response[\"result\"])"
      ],
      "metadata": {
        "colab": {
          "base_uri": "https://localhost:8080/"
        },
        "id": "4MM1gpgiC3Gs",
        "outputId": "6c3ff8e1-3f91-4795-a239-38504e545d7b"
      },
      "execution_count": 23,
      "outputs": [
        {
          "output_type": "stream",
          "name": "stdout",
          "text": [
            "❓ Pregunta: Hablame del tiranosaurio rex\n",
            "🤖 Respuesta: El Tiranosaurio Rex fue un depredador ápice del Cretácico superior.\n"
          ]
        }
      ]
    },
    {
      "cell_type": "code",
      "source": [
        "# Realizar pregunta\n",
        "question = \"¿Qué pasó en el periodo Cretácico?\"\n",
        "response = qa_chain({\"query\": question})"
      ],
      "metadata": {
        "id": "Jgr9eNKyDJab"
      },
      "execution_count": 24,
      "outputs": []
    },
    {
      "cell_type": "code",
      "source": [
        "print(\"❓ Pregunta:\", question)\n",
        "print(\"🤖 Respuesta:\", response[\"result\"])"
      ],
      "metadata": {
        "colab": {
          "base_uri": "https://localhost:8080/"
        },
        "id": "DOrAuNnUDRbj",
        "outputId": "e7bcf797-cf87-4c89-d140-5bb6f3f749fe"
      },
      "execution_count": 25,
      "outputs": [
        {
          "output_type": "stream",
          "name": "stdout",
          "text": [
            "❓ Pregunta: ¿Qué pasó en el periodo Cretácico?\n",
            "🤖 Respuesta: En el período Cretácico, un asteroide gigante impactó la Tierra, lo que generó inviernos de impacto, incendios forestales a gran escala y tsunamis gigantescos. Los dinosaurios dominaron los ecosistemas terrestres debido a su capacidad de adaptación, diversidad y eficiente sistema respiratorio. Algunos de los dinosaurios más famosos de este período incluyen el Tiranosaurio Rex, el Velociraptor, el Braquiosaurio y el Triceratops.\n"
          ]
        }
      ]
    },
    {
      "cell_type": "code",
      "source": [
        "# Realizar pregunta\n",
        "question = \"¿Qué relación hay entre los dinosaurios y las aves?\"\n",
        "response = qa_chain({\"query\": question})"
      ],
      "metadata": {
        "id": "QBHGFvGPD8ZM"
      },
      "execution_count": 26,
      "outputs": []
    },
    {
      "cell_type": "code",
      "source": [
        "print(\"❓ Pregunta:\", question)\n",
        "print(\"🤖 Respuesta:\", response[\"result\"])"
      ],
      "metadata": {
        "colab": {
          "base_uri": "https://localhost:8080/"
        },
        "id": "JRAEdv7rEC6j",
        "outputId": "fc88d1d6-b3da-4908-e5de-e9a456cfd508"
      },
      "execution_count": 27,
      "outputs": [
        {
          "output_type": "stream",
          "name": "stdout",
          "text": [
            "❓ Pregunta: ¿Qué relación hay entre los dinosaurios y las aves?\n",
            "🤖 Respuesta: El descubrimiento de fósiles como el Archaeopteryx y el Microraptor ha revelado una transición gradual entre los dinosaurios terópodos y las aves modernas. El estudio de los embriones de dinosaurios y aves ha revelado sorprendentes similitudes en el desarrollo embrionario, lo que refuerza la teoría de que las aves evolucionaron a partir de los dinosaurios.\n"
          ]
        }
      ]
    },
    {
      "cell_type": "code",
      "source": [
        "# Realizar pregunta\n",
        "question = \"¿Qué piensas de los dinosaurios y la cultura popular?\"\n",
        "response = qa_chain({\"query\": question})"
      ],
      "metadata": {
        "id": "Re7TrLQSFKbc"
      },
      "execution_count": 28,
      "outputs": []
    },
    {
      "cell_type": "code",
      "source": [
        "print(\"❓ Pregunta:\", question)\n",
        "print(\"🤖 Respuesta:\", response[\"result\"])"
      ],
      "metadata": {
        "colab": {
          "base_uri": "https://localhost:8080/"
        },
        "id": "Qp1rlkdhFRyU",
        "outputId": "37b38542-f0ee-4108-fdf2-85ff22604429"
      },
      "execution_count": 29,
      "outputs": [
        {
          "output_type": "stream",
          "name": "stdout",
          "text": [
            "❓ Pregunta: ¿Qué piensas de los dinosaurios y la cultura popular?\n",
            "🤖 Respuesta: Los dinosaurios han trascendido los libros de texto y los museos, convirtiéndose en iconos culturales. Su imagen ha sido moldeada y reinterpretada a lo largo de décadas, dejando una huella imborrable en el cine, la literatura, los videojuegos y otros medios de expresión.\n"
          ]
        }
      ]
    },
    {
      "cell_type": "code",
      "source": [
        "# Cargar y dividir el documento\n",
        "loader = PyPDFLoader(\"/content/drive/MyDrive/Cursos/Python 2024/El Renacimiento.pdf\")\n",
        "pages = loader.load()\n",
        "splitter = RecursiveCharacterTextSplitter(chunk_size=1000, chunk_overlap=150)\n",
        "documents = splitter.split_documents(pages)"
      ],
      "metadata": {
        "id": "q4fzh-W5MLtd"
      },
      "execution_count": 30,
      "outputs": []
    },
    {
      "cell_type": "code",
      "source": [
        "# Vectorizar con Gemini Embeddings y FAISS\n",
        "embeddings = GoogleGenerativeAIEmbeddings(model=\"models/embedding-001\", google_api_key=GEMINI_API_KEY)\n",
        "vectorstore = FAISS.from_documents(documents, embeddings)"
      ],
      "metadata": {
        "id": "rKkKUMNPMa90"
      },
      "execution_count": 31,
      "outputs": []
    },
    {
      "cell_type": "code",
      "source": [
        "# Usar QA Chain\n",
        "llm = ChatGoogleGenerativeAI(model=\"gemini-2.0-flash\", temperature=0.3, google_api_key=GEMINI_API_KEY)\n",
        "\n",
        "qa_chain = RetrievalQA.from_chain_type(\n",
        "    llm=llm,\n",
        "    retriever=vectorstore.as_retriever(search_kwargs={\"k\": 3}),\n",
        "    return_source_documents=True\n",
        ")"
      ],
      "metadata": {
        "id": "d5D_gMb7Mf4r"
      },
      "execution_count": 32,
      "outputs": []
    },
    {
      "cell_type": "code",
      "source": [
        "# Realizar pregunta\n",
        "question = \"¿Cuál es el propósito principal de este documento?\"\n",
        "response = qa_chain({\"query\": question})"
      ],
      "metadata": {
        "id": "8J5AfiWAMjlW"
      },
      "execution_count": 33,
      "outputs": []
    },
    {
      "cell_type": "code",
      "source": [
        "print(\"❓ Pregunta:\", question)\n",
        "print(\"🤖 Respuesta:\", response[\"result\"])"
      ],
      "metadata": {
        "colab": {
          "base_uri": "https://localhost:8080/"
        },
        "id": "ubghfh6HMmzT",
        "outputId": "60526568-b655-4bed-818d-f2385c13083e"
      },
      "execution_count": 34,
      "outputs": [
        {
          "output_type": "stream",
          "name": "stdout",
          "text": [
            "❓ Pregunta: ¿Cuál es el propósito principal de este documento?\n",
            "🤖 Respuesta: El propósito principal del documento es describir el Renacimiento como un movimiento cultural y artístico que marcó una transición entre la Edad Media y la modernidad en Europa, destacando sus características, significado e impacto en diversos campos del conocimiento y la cultura.\n"
          ]
        }
      ]
    },
    {
      "cell_type": "code",
      "source": [
        "# Realizar pregunta\n",
        "question = \"Resume en cinco palabras este documento\"\n",
        "response = qa_chain({\"query\": question})"
      ],
      "metadata": {
        "id": "huMSXmh1MsVK"
      },
      "execution_count": 35,
      "outputs": []
    },
    {
      "cell_type": "code",
      "source": [
        "print(\"❓ Pregunta:\", question)\n",
        "print(\"🤖 Respuesta:\", response[\"result\"])"
      ],
      "metadata": {
        "colab": {
          "base_uri": "https://localhost:8080/"
        },
        "id": "th-VSTlYMyTz",
        "outputId": "04f6d7a4-2c65-471a-d66c-206a3b2bdc7b"
      },
      "execution_count": 36,
      "outputs": [
        {
          "output_type": "stream",
          "name": "stdout",
          "text": [
            "❓ Pregunta: Resume en cinco palabras este documento\n",
            "🤖 Respuesta: Renacimiento: arte, cultura, conocimiento, humanismo.\n"
          ]
        }
      ]
    },
    {
      "cell_type": "code",
      "source": [
        "# Realizar pregunta\n",
        "question = \"¿Cómo se relaciona la filosofía con el renacimiento?\"\n",
        "response = qa_chain({\"query\": question})"
      ],
      "metadata": {
        "id": "8t8BonE_NZ5L"
      },
      "execution_count": 37,
      "outputs": []
    },
    {
      "cell_type": "code",
      "source": [
        "print(\"❓ Pregunta:\", question)\n",
        "print(\"🤖 Respuesta:\", response[\"result\"])"
      ],
      "metadata": {
        "colab": {
          "base_uri": "https://localhost:8080/"
        },
        "id": "pG3_A084NfZd",
        "outputId": "bf1ebf62-4ccc-49cc-a1b6-657940b33878"
      },
      "execution_count": 38,
      "outputs": [
        {
          "output_type": "stream",
          "name": "stdout",
          "text": [
            "❓ Pregunta: ¿Cómo se relaciona la filosofía con el renacimiento?\n",
            "🤖 Respuesta: El Renacimiento tuvo como corriente filosófica central el humanismo. Los humanistas se centraron en el estudio de las humanidades (filosofía, historia, literatura, etc.) y en la dignidad y potencial del ser humano. El humanismo renacentista influyó en el desarrollo de los derechos humanos y la democracia.\n"
          ]
        }
      ]
    },
    {
      "cell_type": "markdown",
      "source": [
        "# **LangChain usando un audio**"
      ],
      "metadata": {
        "id": "R-dgAoAPQCUm"
      }
    },
    {
      "cell_type": "code",
      "source": [
        "# Configurar modelo\n",
        "model = whisper.load_model(\"base\")"
      ],
      "metadata": {
        "colab": {
          "base_uri": "https://localhost:8080/"
        },
        "id": "x1jkuob1QGC5",
        "outputId": "cef5b484-0f72-4055-f811-243d6c869f4a"
      },
      "execution_count": 39,
      "outputs": [
        {
          "output_type": "stream",
          "name": "stderr",
          "text": [
            "100%|███████████████████████████████████████| 139M/139M [00:02<00:00, 60.0MiB/s]\n"
          ]
        }
      ]
    },
    {
      "cell_type": "code",
      "source": [
        "result = model.transcribe(\"/content/drive/MyDrive/Cursos/Python 2024/Transcribir audio/Audio_2.mp3\")\n",
        "transcribed_text = result[\"text\"]"
      ],
      "metadata": {
        "colab": {
          "base_uri": "https://localhost:8080/"
        },
        "id": "4LHN62GgQQH3",
        "outputId": "79480026-ede6-4a5f-e676-f57075d896a5"
      },
      "execution_count": 40,
      "outputs": [
        {
          "output_type": "stream",
          "name": "stderr",
          "text": [
            "/usr/local/lib/python3.11/dist-packages/whisper/transcribe.py:126: UserWarning: FP16 is not supported on CPU; using FP32 instead\n",
            "  warnings.warn(\"FP16 is not supported on CPU; using FP32 instead\")\n"
          ]
        }
      ]
    },
    {
      "cell_type": "code",
      "source": [
        "print(transcribed_text)"
      ],
      "metadata": {
        "colab": {
          "base_uri": "https://localhost:8080/"
        },
        "id": "M7dWiH8tQmfv",
        "outputId": "e7099339-fd26-40ed-efd5-bf0e8df99f89"
      },
      "execution_count": 41,
      "outputs": [
        {
          "output_type": "stream",
          "name": "stdout",
          "text": [
            " Bonjour, aujourd'hui je vais vous parler de Verneuys sur scène. C'est une ville en France à 30 km de Paris. Verneuys est écrit V-E-R-N-E-U-I-L. Cette ville s'appelle Verneuys sur scène car elle est traversée par le fleuve La Saine. Il existe un autre Verneuys qui s'appelle Verneuys sur Avres car elle est traversée par le Avres. Nous, à Verneuys sur scène, nous sommes à peu près 15 000 habitants. C'est une ville de petite ville. J'aime le côté culturel dans cette ville. Il y a une salle de cinéma et une salle de spectacles, une école de danse et une école de musique. Au point de vue sportif, nous sommes bien équipés puisqu'il y a une piscine, un terrain de basket, un centre-éceste, un stade de foot, des terrains de tennis, un boulot drôme, un terrain pour jouer à la pétanque. Il y a aussi des pistes d'atletismes. Au point de vue nature, c'est vraiment une ville très agréable à vivre, puisque nous sommes juste à côté d'une énorme forêt dans laquelle c'est agréable de se promener, de courir, de ramasser des champignons. Et puis, il y a aussi beaucoup de champs, des champs de maïs, des champs de colsa, des champs de blé. Et puis, il y a la scène qui traverse la ville, donc s'agréable de se promener au bord de scène. Concernant l'éducation, dans cette ville, il y a tout pour les familles, c'est-à-dire qu'il y a les crèches pour les bébés, des écoles maternelles, pour les jeunes enfants, des écoles primaires pour les enfants, des collèges et des lycées pour les adolescents. Donc, on a des écoles privées et des écoles publiques. Je trouve que Vernoeil sur scène est très bien placé en France, puisque nous sommes quand même à la campagne, tout en étant à seulement 30 minutes de Paris, et puis grâce à l'autoroute, en deux heures, nous sommes à la mer, en Normandie, c'est agréable pour les week-end lorsqu'il fait beau de partir voir la mer. N'hésitez pas à regarder le site internet de Vernoeil sur scène, vous le trouverez sur Google, et puis si vous voulez voir les actualités de la ville, il y a un groupe Facebook, Vernoeil sur scène, où la mairie publie toutes les actualités, les fêtes, tout ce qui se passe dans la ville. Voilà, peut-être à bientôt Vernoeil sur scène.\n"
          ]
        }
      ]
    },
    {
      "cell_type": "code",
      "source": [
        "# Usar Gemini con LangChain\n",
        "llm = ChatGoogleGenerativeAI(model=\"gemini-2.0-flash\", temperature=0.3, google_api_key=GEMINI_API_KEY)"
      ],
      "metadata": {
        "id": "TxNIj8lCQsUt"
      },
      "execution_count": 42,
      "outputs": []
    },
    {
      "cell_type": "code",
      "source": [
        "# Crear el prompt con la transcripción como contexto\n",
        "prompt_base = f\"\"\"\n",
        "Este es el texto transcrito de un audio:\n",
        "{transcribed_text}\n",
        "\n",
        "Responde:\n",
        "\"\"\""
      ],
      "metadata": {
        "id": "GSUPz9KhRDfP"
      },
      "execution_count": 43,
      "outputs": []
    },
    {
      "cell_type": "code",
      "source": [
        "prompt = prompt_base + \"¿De qué trata esta conversación?\"\n",
        "response = llm([HumanMessage(content=prompt)])"
      ],
      "metadata": {
        "id": "I35LRMaWROGm"
      },
      "execution_count": 44,
      "outputs": []
    },
    {
      "cell_type": "code",
      "source": [
        "print(\"🤖 Gemini responde:\")\n",
        "print(response.content)"
      ],
      "metadata": {
        "colab": {
          "base_uri": "https://localhost:8080/"
        },
        "id": "Npx3qn4wRcHO",
        "outputId": "72a5d43e-b435-464f-a2c5-9b06d284bdaf"
      },
      "execution_count": 45,
      "outputs": [
        {
          "output_type": "stream",
          "name": "stdout",
          "text": [
            "🤖 Gemini responde:\n",
            "La conversación trata sobre la ciudad de Verneuil-sur-Seine, en Francia. La persona que habla describe la ciudad, su ubicación, su nombre, el número de habitantes, las instalaciones culturales y deportivas, la naturaleza que la rodea, las opciones educativas y su proximidad a París y la costa de Normandía. También invita a la gente a visitar el sitio web y el grupo de Facebook de la ciudad para obtener más información.\n"
          ]
        }
      ]
    },
    {
      "cell_type": "code",
      "source": [
        "prompt = prompt_base + \"Hablame de sus instalaciones culturales\"\n",
        "response = llm([HumanMessage(content=prompt)])"
      ],
      "metadata": {
        "id": "mgJpB_LURqiP"
      },
      "execution_count": 46,
      "outputs": []
    },
    {
      "cell_type": "code",
      "source": [
        "print(\"🤖 Gemini responde:\")\n",
        "print(response.content)"
      ],
      "metadata": {
        "colab": {
          "base_uri": "https://localhost:8080/"
        },
        "id": "-UCgoV4sR0Km",
        "outputId": "011099ba-9ca5-4070-e4a7-ef6ce6a94dff"
      },
      "execution_count": 47,
      "outputs": [
        {
          "output_type": "stream",
          "name": "stdout",
          "text": [
            "🤖 Gemini responde:\n",
            "Según el audio, Verneuys-sur-Seine tiene una rica oferta cultural:\n",
            "\n",
            "*   **Cine:** Hay una sala de cine.\n",
            "*   **Espectáculos:** Hay una sala de espectáculos.\n",
            "*   **Danza:** Hay una escuela de danza.\n",
            "*   **Música:** Hay una escuela de música.\n"
          ]
        }
      ]
    },
    {
      "cell_type": "code",
      "source": [
        "prompt = prompt_base + \"¿Qué se habla acerca de París?\"\n",
        "response = llm([HumanMessage(content=prompt)])"
      ],
      "metadata": {
        "id": "5cHDUgAhR_VQ"
      },
      "execution_count": 48,
      "outputs": []
    },
    {
      "cell_type": "code",
      "source": [
        "print(\"🤖 Gemini responde:\")\n",
        "print(response.content)"
      ],
      "metadata": {
        "colab": {
          "base_uri": "https://localhost:8080/"
        },
        "id": "DL69kIjwSJyG",
        "outputId": "39144aa9-fdce-403f-cf7c-7e497d21b291"
      },
      "execution_count": 49,
      "outputs": [
        {
          "output_type": "stream",
          "name": "stdout",
          "text": [
            "🤖 Gemini responde:\n",
            "Se menciona que Verneuil-sur-Seine está a solo 30 minutos de París y que, gracias a la autopista, se puede llegar a la costa de Normandía en dos horas.\n"
          ]
        }
      ]
    },
    {
      "cell_type": "code",
      "source": [
        "prompt = prompt_base + \"¿Qué me puedes decir de su entorno natural?\"\n",
        "response = llm([HumanMessage(content=prompt)])"
      ],
      "metadata": {
        "id": "oItvtQAvScQ9"
      },
      "execution_count": 50,
      "outputs": []
    },
    {
      "cell_type": "code",
      "source": [
        "print(\"🤖 Gemini responde:\")\n",
        "print(response.content)"
      ],
      "metadata": {
        "colab": {
          "base_uri": "https://localhost:8080/"
        },
        "id": "fOvhtDdyShwu",
        "outputId": "173bc084-7be4-4305-fc87-d70ca631157f"
      },
      "execution_count": 51,
      "outputs": [
        {
          "output_type": "stream",
          "name": "stdout",
          "text": [
            "🤖 Gemini responde:\n",
            "Según el audio, el entorno natural de Verneuil-sur-Seine es muy agradable. Destaca lo siguiente:\n",
            "\n",
            "*   **Proximidad a un gran bosque:** Ideal para pasear, correr y recoger setas.\n",
            "*   **Campos:** Hay muchos campos de maíz, colza y trigo.\n",
            "*   **El río Sena:** Atraviesa la ciudad, lo que hace agradable pasear por sus orillas.\n",
            "*   **Ubicación:** Está en el campo, pero cerca de París y de la costa de Normandía.\n"
          ]
        }
      ]
    },
    {
      "cell_type": "code",
      "source": [
        "prompt = prompt_base + \"Hablame acerca de la calidad de vida\"\n",
        "response = llm([HumanMessage(content=prompt)])"
      ],
      "metadata": {
        "id": "A-Kw9rlQT2Z1"
      },
      "execution_count": 52,
      "outputs": []
    },
    {
      "cell_type": "code",
      "source": [
        "print(\"🤖 Gemini responde:\")\n",
        "print(response.content)"
      ],
      "metadata": {
        "colab": {
          "base_uri": "https://localhost:8080/"
        },
        "id": "G4B8_GvKUB8g",
        "outputId": "82eceb7c-5a10-42b4-e55d-0d97923cdacd"
      },
      "execution_count": 53,
      "outputs": [
        {
          "output_type": "stream",
          "name": "stdout",
          "text": [
            "🤖 Gemini responde:\n",
            "Según el audio, la calidad de vida en Verneuil-sur-Seine parece ser bastante buena, destacando varios aspectos:\n",
            "\n",
            "*   **Ubicación:** Está cerca de París (a 30 km), lo que permite acceder a las ventajas de una gran ciudad, pero manteniendo un ambiente más tranquilo y campestre. Además, está a dos horas de la costa de Normandía, lo que facilita escapadas de fin de semana.\n",
            "*   **Naturaleza:** La ciudad está rodeada de naturaleza, con una gran forêt para pasear, correr y recolectar setas, así como campos de maíz, colza y trigo. El río Sena también atraviesa la ciudad, ofreciendo agradables paseos a orillas del río.\n",
            "*   **Equipamiento:** La ciudad cuenta con buenas instalaciones deportivas (piscina, campos de baloncesto, centro ecuestre, estadio de fútbol, pistas de tenis, etc.) y culturales (cine, sala de espectáculos, escuela de danza y música).\n",
            "*   **Educación:** Ofrece una amplia gama de opciones educativas para todas las edades, desde guarderías hasta institutos, tanto públicos como privados.\n",
            "*   **Tamaño:** Con alrededor de 15.000 habitantes, se describe como una \"pequeña ciudad\", lo que sugiere un ambiente más tranquilo y comunitario.\n",
            "\n",
            "En resumen, Verneuil-sur-Seine parece ofrecer un equilibrio entre la vida rural y el acceso a servicios y comodidades urbanas, lo que contribuye a una buena calidad de vida.\n"
          ]
        }
      ]
    },
    {
      "cell_type": "code",
      "source": [
        "prompt = prompt_base + \"Complementa a lo que menciona el audio, con tu conocimiento acerca de que actividades es común realizar en la ciudad\"\n",
        "response = llm([HumanMessage(content=prompt)])"
      ],
      "metadata": {
        "id": "lg3us59oU01l"
      },
      "execution_count": 54,
      "outputs": []
    },
    {
      "cell_type": "code",
      "source": [
        "print(\"🤖 Gemini responde:\")\n",
        "print(response.content)"
      ],
      "metadata": {
        "colab": {
          "base_uri": "https://localhost:8080/"
        },
        "id": "hcJOulj3VRNO",
        "outputId": "556bc643-8f1f-43f0-a62c-8ddf3418eb21"
      },
      "execution_count": 55,
      "outputs": [
        {
          "output_type": "stream",
          "name": "stdout",
          "text": [
            "🤖 Gemini responde:\n",
            "De acuerdo, complementando la descripción de Verneuil-sur-Seine que se da en el audio, y basándome en lo que es común encontrar en ciudades francesas similares y en información general sobre la región, puedo añadir lo siguiente sobre las actividades que se pueden realizar allí:\n",
            "\n",
            "**Más allá de lo mencionado en el audio, en Verneuil-sur-Seine probablemente se puedan disfrutar de:**\n",
            "\n",
            "*   **Mercados locales:** Es muy probable que Verneuil-sur-Seine tenga un mercado semanal o varios mercados a la semana donde se puedan comprar productos frescos de la región, quesos, carnes, panes y otros productos artesanales. Estos mercados son un punto de encuentro social importante.\n",
            "*   **Festivales y eventos culturales:** Además de los eventos que publique el ayuntamiento en Facebook, Verneuil-sur-Seine podría tener festivales de música, ferias de artesanía, celebraciones de fiestas nacionales (como el 14 de julio) o eventos relacionados con la gastronomía local.\n",
            "*   **Actividades al aire libre en la Seine y en el bosque:** Además de pasear y correr, en el río Seine se podrían practicar actividades como kayak, remo o pesca (si está permitido). En el bosque cercano, además de buscar setas, se podría hacer senderismo, ciclismo de montaña o incluso equitación.\n",
            "*   **Visitas a lugares históricos cercanos:** Aunque el audio no lo menciona, Verneuil-sur-Seine, al estar cerca de París, podría ser un buen punto de partida para visitar castillos, pueblos con encanto o museos en la región de Île-de-France.\n",
            "*   **Restaurantes y cafés:** Es probable que haya una variedad de restaurantes que ofrezcan cocina francesa tradicional, así como cafés donde se pueda disfrutar de un café o una copa de vino.\n",
            "*   **Actividades para niños:** Además de las escuelas y parques, podría haber clubes deportivos, talleres creativos o actividades organizadas por el ayuntamiento para niños y familias.\n",
            "\n",
            "En resumen, Verneuil-sur-Seine, como muchas ciudades francesas de tamaño mediano, probablemente ofrezca una combinación de vida tranquila en un entorno natural, acceso a la cultura y el deporte, y la posibilidad de disfrutar de la gastronomía local y de actividades al aire libre. Su cercanía a París es un plus para aquellos que buscan una escapada de la ciudad o para acceder a una mayor oferta cultural y de servicios.\n"
          ]
        }
      ]
    },
    {
      "cell_type": "code",
      "source": [
        "prompt = f\"\"\"\n",
        "Analiza el siguiente texto transcrito de una conversación.\n",
        "Devuélveme un análisis emocional con:\n",
        "\n",
        "1. Emoción predominante (alegría, tristeza, enojo, miedo, sorpresa, neutralidad)\n",
        "2. Sentimientos asociados (por ejemplo: frustración, esperanza, ansiedad)\n",
        "3. Justificación de por qué llegaste a esa conclusión\n",
        "\n",
        "Texto:\n",
        "{transcribed_text}\n",
        "\"\"\""
      ],
      "metadata": {
        "id": "NR4mNtxiTM_u"
      },
      "execution_count": 56,
      "outputs": []
    },
    {
      "cell_type": "code",
      "source": [
        "response = llm([HumanMessage(content=prompt)])"
      ],
      "metadata": {
        "id": "G1NGDVURTRwF"
      },
      "execution_count": 57,
      "outputs": []
    },
    {
      "cell_type": "code",
      "source": [
        "print(\"🔍 Análisis de emociones:\")\n",
        "print(response.content)"
      ],
      "metadata": {
        "colab": {
          "base_uri": "https://localhost:8080/"
        },
        "id": "aQ0_nj9QTbFS",
        "outputId": "9847f4ff-f78e-4e5b-8b06-72d2b4cd36a2"
      },
      "execution_count": 58,
      "outputs": [
        {
          "output_type": "stream",
          "name": "stdout",
          "text": [
            "🔍 Análisis de emociones:\n",
            "Aquí está el análisis emocional del texto:\n",
            "\n",
            "1.  **Emoción predominante:** Neutralidad con toques de alegría.\n",
            "\n",
            "2.  **Sentimientos asociados:**\n",
            "\n",
            "    *   **Orgullo:** La persona parece orgullosa de su ciudad y de lo que ofrece.\n",
            "    *   **Aprecio:** Se nota un aprecio por la naturaleza, la cultura y las facilidades que ofrece Verneuys sur scène.\n",
            "    *   **Entusiasmo moderado:** Hay un entusiasmo contenido al describir los aspectos positivos de la ciudad.\n",
            "\n",
            "3.  **Justificación:**\n",
            "\n",
            "    *   El tono general del texto es informativo y descriptivo, lo que indica neutralidad. La persona está presentando hechos sobre la ciudad.\n",
            "    *   Sin embargo, hay indicios de alegría y orgullo en frases como:\n",
            "        *   \"J'aime le côté culturel dans cette ville.\" (Me gusta el lado cultural de esta ciudad).\n",
            "        *   \"Au point de vue nature, c'est vraiment une ville très agréable à vivre\" (Desde el punto de vista de la naturaleza, es realmente una ciudad muy agradable para vivir).\n",
            "        *   \"Je trouve que Vernoeil sur scène est très bien placé en France\" (Creo que Vernoeil sur scène está muy bien situado en Francia).\n",
            "        *   La invitación a visitar la ciudad y consultar el sitio web y el grupo de Facebook también sugiere un deseo de compartir las bondades de Verneuys sur scène, lo que implica un sentimiento positivo hacia la ciudad.\n",
            "    *   No hay indicios de tristeza, enojo, miedo o sorpresa en el texto. El lenguaje es positivo y objetivo, aunque con un ligero sesgo hacia la valoración positiva de la ciudad.\n",
            "\n",
            "En resumen, la emoción predominante es la neutralidad, ya que el texto es principalmente informativo, pero está matizada por un sentimiento de alegría y orgullo hacia la ciudad de Verneuys sur scène.\n"
          ]
        }
      ]
    },
    {
      "cell_type": "code",
      "source": [
        "prompt = f\"\"\"\n",
        "Analiza el siguiente texto transcrito de una conversación.\n",
        "Resume los momentos de mayor carga emocional y explica qué emociones estaban involucradas\n",
        "\n",
        "Texto:\n",
        "{transcribed_text}\n",
        "\"\"\""
      ],
      "metadata": {
        "id": "5S6wbs8eV_6O"
      },
      "execution_count": 59,
      "outputs": []
    },
    {
      "cell_type": "code",
      "source": [
        "response = llm([HumanMessage(content=prompt)])"
      ],
      "metadata": {
        "id": "Lv6fKTmKWJ_u"
      },
      "execution_count": 60,
      "outputs": []
    },
    {
      "cell_type": "code",
      "source": [
        "print(\"🔍 Análisis de emociones:\")\n",
        "print(response.content)"
      ],
      "metadata": {
        "id": "5Ca70ApLWNl5",
        "outputId": "80b6adca-51aa-4d25-e0b2-583c572814c0",
        "colab": {
          "base_uri": "https://localhost:8080/"
        }
      },
      "execution_count": 61,
      "outputs": [
        {
          "output_type": "stream",
          "name": "stdout",
          "text": [
            "🔍 Análisis de emociones:\n",
            "El texto transcrito es una descripción de la ciudad de Verneuil-sur-Seine.  Aunque el tono general es informativo y descriptivo, podemos identificar algunos momentos con una ligera carga emocional, principalmente positiva.\n",
            "\n",
            "**Momentos de mayor carga emocional:**\n",
            "\n",
            "*   **\"J'aime le côté culturel dans cette ville.\" (Me gusta el lado cultural de esta ciudad.)** Aquí, la emoción involucrada es el **gusto** o el **aprecio**. La persona expresa una preferencia personal por los aspectos culturales de la ciudad.\n",
            "*   **\"Au point de vue nature, c'est vraiment une ville très agréable à vivre...\" (Desde el punto de vista de la naturaleza, es realmente una ciudad muy agradable para vivir...)**  La emoción principal aquí es el **entusiasmo** o la **satisfacción**. La persona está destacando las cualidades positivas de la ciudad en términos de su entorno natural. La frase \"très agréable à vivre\" (muy agradable para vivir) sugiere una fuerte conexión emocional positiva con el lugar.\n",
            "*   **\"...puisque nous sommes juste à côté d'une énorme forêt dans laquelle c'est agréable de se promener, de courir, de ramasser des champignons.\" (...ya que estamos justo al lado de un enorme bosque en el que es agradable pasear, correr, recoger setas.)**  Esta frase amplía el punto anterior y evoca sentimientos de **alegría**, **tranquilidad** y **conexión con la naturaleza**.  La mención de actividades como pasear, correr y recoger setas añade un elemento de experiencia personal y disfrute.\n",
            "*   **\"...donc c'est agréable de se promener au bord de scène.\" (...así que es agradable pasear por el borde del Sena.)** Similar al punto anterior, esta frase evoca sentimientos de **tranquilidad** y **placer** asociados con la naturaleza.\n",
            "*   **\"Je trouve que Vernoeil sur scène est très bien placé en France...\" (Creo que Vernoeil sur scène está muy bien situado en Francia...)**  Aquí, la emoción es una mezcla de **orgullo** y **satisfacción**. La persona está expresando su opinión positiva sobre la ubicación estratégica de la ciudad.\n",
            "*   **\"...c'est agréable pour les week-end lorsqu'il fait beau de partir voir la mer.\" (...es agradable para los fines de semana cuando hace buen tiempo ir a ver el mar.)**  Esta frase evoca sentimientos de **anticipación**, **alegría** y **libertad** asociados con la posibilidad de escapadas de fin de semana.\n",
            "*   **\"Voilà, peut-être à bientôt Vernoeil sur scène.\" (Bueno, quizás hasta pronto Vernoeil sur scène.)**  Esta frase final transmite un sentimiento de **esperanza** y **conexión** con la ciudad.\n",
            "\n",
            "En resumen, las emociones predominantes en el texto son positivas: **gusto, aprecio, entusiasmo, satisfacción, alegría, tranquilidad, orgullo, esperanza**. Estas emociones están ligadas a la experiencia personal de la persona con la ciudad y a su valoración de sus cualidades culturales, naturales y estratégicas. Aunque no hay una explosión de emoción, el tono general es positivo y sugiere un fuerte apego al lugar.\n"
          ]
        }
      ]
    },
    {
      "cell_type": "markdown",
      "source": [
        "# **LangChain con una base de datos SQL Server**"
      ],
      "metadata": {
        "id": "-i8BIKmWa3cQ"
      }
    },
    {
      "cell_type": "code",
      "source": [
        "# Datos de conexión\n",
        "host = \"database-1.clomociw036x.us-east-2.rds.amazonaws.com\"\n",
        "database = \"Northwind\"\n",
        "username = \"XXXXX\"\n",
        "password = \"XXXXXX\"\n",
        "port = 1433"
      ],
      "metadata": {
        "id": "94sS99TGcgNr"
      },
      "execution_count": 78,
      "outputs": []
    },
    {
      "cell_type": "code",
      "source": [
        "# Crear engine con pytds\n",
        "engine = create_engine(f\"mssql+pytds://{username}:{password}@{host}:{port}/{database}\")"
      ],
      "metadata": {
        "id": "fU3ekwicdvqP"
      },
      "execution_count": 11,
      "outputs": []
    },
    {
      "cell_type": "code",
      "source": [
        "# Crear objeto LangChain para la base de datos\n",
        "db = SQLDatabase(engine)"
      ],
      "metadata": {
        "id": "cVHNgFFtdyt3"
      },
      "execution_count": 12,
      "outputs": []
    },
    {
      "cell_type": "code",
      "source": [
        "# Usar LangChain con Gemini AI\n",
        "llm = ChatGoogleGenerativeAI(model=\"gemini-2.0-flash\", temperature=0.3, google_api_key=GEMINI_API_KEY)"
      ],
      "metadata": {
        "id": "yKrzEm2La8EW"
      },
      "execution_count": 21,
      "outputs": []
    },
    {
      "cell_type": "code",
      "source": [
        "# Esquema de la base de datos\n",
        "schema = \"\"\"\n",
        "Tables:\n",
        "Products(ProductID, ProductName, SupplierID, CategoryID, QuantityPerUnit, UnitPrice, UnitsInStock, UnitsOnOrder, ReorderLevel, Discontinued)\n",
        "Suppliers(SupplierID, CompanyName, ContactName, ContactTitle, Address, City, Region, PostalCode, Country, Phone)\n",
        "Categories(CategoryID, CategoryName, Description)\n",
        "\n",
        "Relaciones:\n",
        "Products.SupplierID → Suppliers.SupplierID\n",
        "Products.CategoryID → Categories.CategoryID\n",
        "\"\"\""
      ],
      "metadata": {
        "id": "V9n0dLtMgTvK"
      },
      "execution_count": 22,
      "outputs": []
    },
    {
      "cell_type": "code",
      "source": [
        "# Prompt para que Gemini genere SQL\n",
        "prompt = PromptTemplate(\n",
        "    input_variables=[\"question\", \"schema\"],\n",
        "    template=\"\"\"\n",
        "Eres un experto en bases de datos. Genera únicamente una consulta SQL válida para SQL Server que responda la siguiente pregunta, usando el esquema dado.\n",
        "\n",
        "No incluyas explicaciones, encabezados ni etiquetas como \"sql:\" o \"Aquí está la consulta\".\n",
        "Solo responde con la consulta SQL.\n",
        "\n",
        "Esquema:\n",
        "{schema}\n",
        "\n",
        "Pregunta:\n",
        "{question}\n",
        "\"\"\".strip()\n",
        ")"
      ],
      "metadata": {
        "id": "DhSVEVJVgajX"
      },
      "execution_count": 60,
      "outputs": []
    },
    {
      "cell_type": "code",
      "source": [
        "# Pasar prompt\n",
        "chain = LLMChain(llm=llm, prompt=prompt)"
      ],
      "metadata": {
        "id": "xJRtPJ_Hgr1q"
      },
      "execution_count": 38,
      "outputs": []
    },
    {
      "cell_type": "code",
      "source": [
        "# Hacer pregunta\n",
        "question = \"¿Cuáles son los nombres de productos del proveedor 'Exotic Liquids' y su categoría?\"\n",
        "sql = chain.run({\"question\": question, \"schema\": schema})"
      ],
      "metadata": {
        "id": "5LRGInUog8Zo"
      },
      "execution_count": 47,
      "outputs": []
    },
    {
      "cell_type": "code",
      "source": [
        "sql = sql.replace(\"sql\", \"\").replace(\"```\", \"\").strip()"
      ],
      "metadata": {
        "id": "DDxpFKLNjT5_"
      },
      "execution_count": 48,
      "outputs": []
    },
    {
      "cell_type": "code",
      "source": [
        "print(\"🤖 Gemini responde:\")\n",
        "print(sql)"
      ],
      "metadata": {
        "colab": {
          "base_uri": "https://localhost:8080/"
        },
        "id": "7NVmwLe0hOYP",
        "outputId": "d8fa74b5-8851-42dc-e60b-88232cc68960"
      },
      "execution_count": 49,
      "outputs": [
        {
          "output_type": "stream",
          "name": "stdout",
          "text": [
            "🤖 Gemini responde:\n",
            "SELECT p.ProductName, c.CategoryName\n",
            "FROM Products p\n",
            "JOIN Suppliers s ON p.SupplierID = s.SupplierID\n",
            "JOIN Categories c ON p.CategoryID = c.CategoryID\n",
            "WHERE s.CompanyName = 'Exotic Liquids';\n"
          ]
        }
      ]
    },
    {
      "cell_type": "code",
      "source": [
        "# Ejecutar consulta\n",
        "response = db.run(sql)\n",
        "print(\"Resultado:\\n\", response)"
      ],
      "metadata": {
        "colab": {
          "base_uri": "https://localhost:8080/"
        },
        "id": "HVh3YWechRK-",
        "outputId": "9e5b1247-c653-4948-b370-cc6bb6c78809"
      },
      "execution_count": 51,
      "outputs": [
        {
          "output_type": "stream",
          "name": "stdout",
          "text": [
            "Resultado:\n",
            " [('Chai', 'Beverages'), ('Chang', 'Beverages'), ('Aniseed Syrup', 'Condiments')]\n"
          ]
        }
      ]
    },
    {
      "cell_type": "code",
      "source": [
        "# Hacer pregunta\n",
        "question = \"¿Cuántos productos hay por categoría?\"\n",
        "sql = chain.run({\"question\": question, \"schema\": schema})"
      ],
      "metadata": {
        "id": "PICNjtNMj4Fu"
      },
      "execution_count": 52,
      "outputs": []
    },
    {
      "cell_type": "code",
      "source": [
        "sql = sql.replace(\"sql\", \"\").replace(\"```\", \"\").strip()"
      ],
      "metadata": {
        "id": "QaOhOAL5j7nv"
      },
      "execution_count": 53,
      "outputs": []
    },
    {
      "cell_type": "code",
      "source": [
        "print(\"🤖 Gemini responde:\")\n",
        "print(sql)"
      ],
      "metadata": {
        "colab": {
          "base_uri": "https://localhost:8080/"
        },
        "id": "j8dy5Cdqj-FG",
        "outputId": "639c288a-511a-4f3e-af26-ed92e63e35e1"
      },
      "execution_count": 54,
      "outputs": [
        {
          "output_type": "stream",
          "name": "stdout",
          "text": [
            "🤖 Gemini responde:\n",
            "SELECT c.CategoryName, COUNT(p.ProductID) AS NumberOfProducts\n",
            "FROM Categories c\n",
            "JOIN Products p ON c.CategoryID = p.CategoryID\n",
            "GROUP BY c.CategoryName;\n"
          ]
        }
      ]
    },
    {
      "cell_type": "code",
      "source": [
        "# Ejecutar consulta\n",
        "response = db.run(sql)\n",
        "print(\"Resultado:\\n\", response)"
      ],
      "metadata": {
        "colab": {
          "base_uri": "https://localhost:8080/"
        },
        "id": "tcigJR6_kIKv",
        "outputId": "73900ddb-605d-4218-b389-f0ffedce14ac"
      },
      "execution_count": 55,
      "outputs": [
        {
          "output_type": "stream",
          "name": "stdout",
          "text": [
            "Resultado:\n",
            " [('Beverages', 12), ('Condiments', 12), ('Confections', 13), ('Dairy Products', 10), ('Grains/Cereals', 7), ('Meat/Poultry', 6), ('Produce', 5), ('Seafood', 12)]\n"
          ]
        }
      ]
    },
    {
      "cell_type": "code",
      "source": [
        "# Hacer pregunta\n",
        "question = \"¿Cuál es el producto más caro y quién lo provee?\"\n",
        "sql = chain.run({\"question\": question, \"schema\": schema})"
      ],
      "metadata": {
        "id": "Fmy7Mx7Ck7bW"
      },
      "execution_count": 61,
      "outputs": []
    },
    {
      "cell_type": "code",
      "source": [
        "sql = sql.replace(\"sql\", \"\").replace(\"```\", \"\").strip()"
      ],
      "metadata": {
        "id": "O_-hCvNclAoG"
      },
      "execution_count": 62,
      "outputs": []
    },
    {
      "cell_type": "code",
      "source": [
        "print(\"🤖 Gemini responde:\")\n",
        "print(sql)"
      ],
      "metadata": {
        "colab": {
          "base_uri": "https://localhost:8080/"
        },
        "id": "ARgQMYZ6lDN3",
        "outputId": "33e3d48e-eb3f-414a-9033-15b98ead3a2f"
      },
      "execution_count": 63,
      "outputs": [
        {
          "output_type": "stream",
          "name": "stdout",
          "text": [
            "🤖 Gemini responde:\n",
            "SELECT TOP 1 p.ProductName, s.CompanyName\n",
            "FROM Products p\n",
            "JOIN Suppliers s ON p.SupplierID = s.SupplierID\n",
            "ORDER BY p.UnitPrice DESC;\n"
          ]
        }
      ]
    },
    {
      "cell_type": "code",
      "source": [
        "# Ejecutar consulta\n",
        "response = db.run(sql)\n",
        "print(\"Resultado:\\n\", response)"
      ],
      "metadata": {
        "colab": {
          "base_uri": "https://localhost:8080/"
        },
        "id": "EnAG1KI0lL5f",
        "outputId": "9a6c92ef-7211-47a5-90fa-d010dade5ad3"
      },
      "execution_count": 64,
      "outputs": [
        {
          "output_type": "stream",
          "name": "stdout",
          "text": [
            "Resultado:\n",
            " [('Côte de Blaye', 'Aux joyeux ecclésiastiques')]\n"
          ]
        }
      ]
    },
    {
      "cell_type": "code",
      "source": [
        "# Hacer pregunta\n",
        "question = \"¿Qué proveedores venden productos con precio menor a 10?\"\n",
        "sql = chain.run({\"question\": question, \"schema\": schema})"
      ],
      "metadata": {
        "id": "HYdmrA_HmBie"
      },
      "execution_count": 69,
      "outputs": []
    },
    {
      "cell_type": "code",
      "source": [
        "sql = sql.replace(\"sql\", \"\").replace(\"```\", \"\").strip()"
      ],
      "metadata": {
        "id": "IToY_zBpmOIP"
      },
      "execution_count": 70,
      "outputs": []
    },
    {
      "cell_type": "code",
      "source": [
        "print(\"🤖 Gemini responde:\")\n",
        "print(sql)"
      ],
      "metadata": {
        "colab": {
          "base_uri": "https://localhost:8080/"
        },
        "id": "zzzRGKUomQXX",
        "outputId": "cb461fb7-3347-4633-f1ab-e4448c91c1aa"
      },
      "execution_count": 71,
      "outputs": [
        {
          "output_type": "stream",
          "name": "stdout",
          "text": [
            "🤖 Gemini responde:\n",
            "SELECT DISTINCT s.CompanyName\n",
            "FROM Suppliers s\n",
            "JOIN Products p ON s.SupplierID = p.SupplierID\n",
            "WHERE p.UnitPrice < 10;\n"
          ]
        }
      ]
    },
    {
      "cell_type": "code",
      "source": [
        "# Ejecutar consulta\n",
        "response = db.run(sql)\n",
        "print(\"Resultado:\\n\", response)"
      ],
      "metadata": {
        "colab": {
          "base_uri": "https://localhost:8080/"
        },
        "id": "w2mw1nlGmWuG",
        "outputId": "5c47921a-3f0e-4f30-fe06-1f158f1fe1de"
      },
      "execution_count": 72,
      "outputs": [
        {
          "output_type": "stream",
          "name": "stdout",
          "text": [
            "Resultado:\n",
            " [(\"G'day, Mate\",), ('Lyngbysild',), ('Ma Maison',), (\"Mayumi's\",), ('New England Seafood Cannery',), ('Norske Meierier',), ('PB Knäckebröd AB',), ('Plutzer Lebensmittelgroßmärkte AG',), ('Refrescos Americanas LTDA',), ('Specialty Biscuits, Ltd.',), ('Zaanse Snoepfabriek',)]\n"
          ]
        }
      ]
    },
    {
      "cell_type": "code",
      "source": [
        "# Hacer pregunta\n",
        "question = \"¿Cuál es el precio promedio por categoría?\"\n",
        "sql = chain.run({\"question\": question, \"schema\": schema})"
      ],
      "metadata": {
        "id": "6NN3HVxgmuUn"
      },
      "execution_count": 73,
      "outputs": []
    },
    {
      "cell_type": "code",
      "source": [
        "sql = sql.replace(\"sql\", \"\").replace(\"```\", \"\").strip()"
      ],
      "metadata": {
        "id": "vScZYB_tmwne"
      },
      "execution_count": 74,
      "outputs": []
    },
    {
      "cell_type": "code",
      "source": [
        "print(\"🤖 Gemini responde:\")\n",
        "print(sql)"
      ],
      "metadata": {
        "colab": {
          "base_uri": "https://localhost:8080/"
        },
        "id": "62U7Dy5bmya-",
        "outputId": "88fd18a5-7669-463c-9559-028f12141a2f"
      },
      "execution_count": 75,
      "outputs": [
        {
          "output_type": "stream",
          "name": "stdout",
          "text": [
            "🤖 Gemini responde:\n",
            "SELECT c.CategoryName, AVG(p.UnitPrice) AS AveragePrice\n",
            "FROM Products p\n",
            "JOIN Categories c ON p.CategoryID = c.CategoryID\n",
            "GROUP BY c.CategoryName;\n"
          ]
        }
      ]
    },
    {
      "cell_type": "code",
      "source": [
        "# Ejecutar consulta\n",
        "response = db.run(sql)\n",
        "print(\"Resultado:\\n\", response)"
      ],
      "metadata": {
        "colab": {
          "base_uri": "https://localhost:8080/"
        },
        "id": "tQTsntxim5mf",
        "outputId": "1c395f6b-ea45-4089-ca07-9eaff46e5da7"
      },
      "execution_count": 76,
      "outputs": [
        {
          "output_type": "stream",
          "name": "stdout",
          "text": [
            "Resultado:\n",
            " [('Beverages', Decimal('37.9791')), ('Condiments', Decimal('23.0625')), ('Confections', Decimal('25.16')), ('Dairy Products', Decimal('28.73')), ('Grains/Cereals', Decimal('20.25')), ('Meat/Poultry', Decimal('54.0066')), ('Produce', Decimal('32.37')), ('Seafood', Decimal('20.6825'))]\n"
          ]
        }
      ]
    }
  ]
}